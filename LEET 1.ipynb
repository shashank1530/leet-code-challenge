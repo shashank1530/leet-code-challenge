{
  "metadata": {
    "kernelspec": {
      "name": "python",
      "display_name": "Python (Pyodide)",
      "language": "python"
    },
    "language_info": {
      "codemirror_mode": {
        "name": "python",
        "version": 3
      },
      "file_extension": ".py",
      "mimetype": "text/x-python",
      "name": "python",
      "nbconvert_exporter": "python",
      "pygments_lexer": "ipython3",
      "version": "3.8"
    }
  },
  "nbformat_minor": 4,
  "nbformat": 4,
  "cells": [
    {
      "cell_type": "code",
      "source": "\nclass Solution:\n    def findMedianSortedArrays(self, nums1: list[int], nums2: list[int]) -> float:\n        x = len(nums1)\n        y = len(nums2)\n\n        if x > y:\n            nums1, nums2, x, y = nums2, nums1, y, x\n        low = 0\n        high = x\n        while low <= high:\n            px = (low + high) // 2\n            py = (x + y + 1) // 2 - px\n\n            maxleftX = float('-inf') if px == 0 else nums1[px - 1]\n            maxleftY = float('-inf') if py == 0 else nums2[py - 1]\n            minrightX = float('inf') if px == x else nums1[px]\n            minrightY = float('inf') if py == y else nums2[py]\n\n            if maxleftX <= minrightY and maxleftY <= minrightX:\n                if (x + y) % 2 == 0:\n                    return (max(maxleftX, maxleftY) + min(minrightX, minrightY)) / 2\n                else:\n                    return max(maxleftX, maxleftY)\n            elif maxleftX > minrightY:\n                high = px - 1\n            else:\n                low = px + 1\n        return 0\n\n",
      "metadata": {
        "trusted": true
      },
      "outputs": [],
      "execution_count": 2
    },
    {
      "cell_type": "code",
      "source": "",
      "metadata": {
        "trusted": true
      },
      "outputs": [],
      "execution_count": null
    }
  ]
}